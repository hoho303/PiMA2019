{
  "nbformat": 4,
  "nbformat_minor": 0,
  "metadata": {
    "colab": {
      "name": "LSTM_eng.ipynb",
      "version": "0.3.2",
      "provenance": [],
      "collapsed_sections": []
    },
    "kernelspec": {
      "name": "python3",
      "display_name": "Python 3"
    },
    "accelerator": "GPU"
  },
  "cells": [
    {
      "cell_type": "code",
      "metadata": {
        "id": "0mauwSJVt9Pe",
        "colab_type": "code",
        "colab": {}
      },
      "source": [
        "from google.colab import drive\n",
        "drive.mount('/content/drive')"
      ],
      "execution_count": 0,
      "outputs": []
    },
    {
      "cell_type": "code",
      "metadata": {
        "id": "eG4GHkm9hoNF",
        "colab_type": "code",
        "colab": {}
      },
      "source": [
        "%pip install kaggle\n",
        "%mkdir .kaggle"
      ],
      "execution_count": 0,
      "outputs": []
    },
    {
      "cell_type": "code",
      "metadata": {
        "id": "lvJ0IIa4uJFD",
        "colab_type": "code",
        "colab": {}
      },
      "source": [
        "import os\n",
        "os.environ['no1liekme'] = \"193051f585ca0026d6a8737c25ae636f\""
      ],
      "execution_count": 0,
      "outputs": []
    },
    {
      "cell_type": "code",
      "metadata": {
        "id": "1VO8agB1hy9g",
        "colab_type": "code",
        "colab": {}
      },
      "source": [
        "import json\n",
        "token = {\"username\":\"no1liekme\",\"key\":\"193051f585ca0026d6a8737c25ae636f\"}\n",
        "with open('/content/.kaggle/kaggle.json', 'w') as file:\n",
        "    json.dump(token, file)\n"
      ],
      "execution_count": 0,
      "outputs": []
    },
    {
      "cell_type": "code",
      "metadata": {
        "id": "Elp5-PCMudPM",
        "colab_type": "code",
        "colab": {}
      },
      "source": [
        "%mkdir ~/.kaggle/"
      ],
      "execution_count": 0,
      "outputs": []
    },
    {
      "cell_type": "code",
      "metadata": {
        "id": "uHY7TUWZh67s",
        "colab_type": "code",
        "colab": {}
      },
      "source": [
        "!cp /content/.kaggle/kaggle.json ~/.kaggle/kaggle.json"
      ],
      "execution_count": 0,
      "outputs": []
    },
    {
      "cell_type": "code",
      "metadata": {
        "id": "jvyS13rwiljP",
        "colab_type": "code",
        "colab": {}
      },
      "source": [
        "!kaggle config set -n path -v/content"
      ],
      "execution_count": 0,
      "outputs": []
    },
    {
      "cell_type": "code",
      "metadata": {
        "id": "GGuH3MS3iDSF",
        "colab_type": "code",
        "colab": {}
      },
      "source": [
        "!chmod 600 /root/.kaggle/kaggle.json"
      ],
      "execution_count": 0,
      "outputs": []
    },
    {
      "cell_type": "code",
      "metadata": {
        "id": "61KJo6R8hICd",
        "colab_type": "code",
        "colab": {}
      },
      "source": [
        "!kaggle datasets download -d lakshmi25npathi/imdb-dataset-of-50k-movie-reviews"
      ],
      "execution_count": 0,
      "outputs": []
    },
    {
      "cell_type": "code",
      "metadata": {
        "id": "ouecRuCqdtow",
        "colab_type": "code",
        "colab": {}
      },
      "source": [
        "!mv /content/datasets/lakshmi25npathi/imdb-dataset-of-50k-movie-reviews/imdb-dataset-of-50k-movie-reviews.zip datasets/imdb.zip"
      ],
      "execution_count": 0,
      "outputs": []
    },
    {
      "cell_type": "code",
      "metadata": {
        "id": "jNnP99O5eMHZ",
        "colab_type": "code",
        "colab": {}
      },
      "source": [
        "!rm -rf datasets/lakshmi25npathi"
      ],
      "execution_count": 0,
      "outputs": []
    },
    {
      "cell_type": "code",
      "metadata": {
        "id": "uVMv6kjKeRRc",
        "colab_type": "code",
        "colab": {}
      },
      "source": [
        "%cd /content/datasets/\n",
        "!pwd"
      ],
      "execution_count": 0,
      "outputs": []
    },
    {
      "cell_type": "code",
      "metadata": {
        "id": "EeJWaDHyeihH",
        "colab_type": "code",
        "colab": {}
      },
      "source": [
        "!unzip imdb.zip"
      ],
      "execution_count": 0,
      "outputs": []
    },
    {
      "cell_type": "code",
      "metadata": {
        "id": "9QLaHZOzghLc",
        "colab_type": "code",
        "colab": {}
      },
      "source": [
        "!rm -rf datasets/imdb.zip"
      ],
      "execution_count": 0,
      "outputs": []
    },
    {
      "cell_type": "markdown",
      "metadata": {
        "id": "zbj8OEoPR4jG",
        "colab_type": "text"
      },
      "source": [
        ""
      ]
    },
    {
      "cell_type": "code",
      "metadata": {
        "colab_type": "code",
        "id": "G7gOwRU4XZJ_",
        "colab": {}
      },
      "source": [
        "import pandas as pd\n",
        "from keras.preprocessing.text import Tokenizer\n",
        "from keras.preprocessing.sequence import pad_sequences\n",
        "from keras.models import *\n",
        "from keras.layers import *\n",
        "from keras.optimizers import *\n",
        "from keras.utils import to_categorical\n",
        "from keras.callbacks import ModelCheckpoint\n",
        "from sklearn.model_selection import train_test_split\n",
        "import keras\n",
        "\n",
        "\n",
        "def load_data():\n",
        "    data = pd.read_csv('/content/datasets/IMDB Dataset.csv')\n",
        "    for i in range(len(data)):\n",
        "      if data['sentiment'][i]=='negative':\n",
        "         data['sentiment'][i]=0\n",
        "      else:\n",
        "        data['sentiment'][i]=1\n",
        "    tok = Tokenizer(num_words=len(data['review']), lower=True)\n",
        "    tok.fit_on_texts(data['review'])\n",
        "    x = tok.texts_to_sequences(data['review'])\n",
        "    x = pad_sequences(x, maxlen=200)\n",
        "    y = data['sentiment']\n",
        "    x_train, x_test, y_train, y_test = train_test_split(x, y, test_size=0.3, random_state=42)\n",
        "    return x_train, x_test, y_train, y_test\n",
        "\n",
        "\n",
        "def build_model():\n",
        "    model = Sequential()\n",
        "    model.add(Embedding(50000, 200))\n",
        "    model.add(Bidirectional(LSTM(512, return_sequences=True)))\n",
        "    model.add(LSTM(512))\n",
        "    model.add(Dense(512, activation='relu'))\n",
        "    model.add(Dropout(0.5))\n",
        "    model.add(Dense(128, activation='relu'))\n",
        "    model.add(Dropout(0.5))\n",
        "    model.add(Dense(2, activation='sigmoid'))\n",
        "    model.compile(loss=\"binary_crossentropy\",\n",
        "                  optimizer=keras.optimizers.Adam(),\n",
        "                  metrics=[\"acc\"])\n",
        "    return model\n",
        "\n",
        "\n",
        "def train(x_train, x_test, y_train, y_test):\n",
        "    model_checkpoint = ModelCheckpoint('drive/My Drive/PiMA/model/model.h5',\n",
        "                                       monitor='val_acc',\n",
        "                                       verbose=1,\n",
        "                                       save_best_only=True,\n",
        "                                       mode='max')\n",
        "    model = build_model()\n",
        "    H = model.fit(x_train, y_train, validation_data=(x_test, y_test), batch_size=64, epochs=5, verbose=1,\n",
        "              callbacks=[model_checkpoint])\n",
        "    model.evaluate(x_test,y_test,verbose=1)\n"
      ],
      "execution_count": 0,
      "outputs": []
    },
    {
      "cell_type": "code",
      "metadata": {
        "id": "TdNI_S3uXeb6",
        "colab_type": "code",
        "colab": {}
      },
      "source": [
        "x_train, x_test, y_train, y_test = load_data()\n",
        "y_train = to_categorical(y_train)\n",
        "y_test = to_categorical(y_test)\n",
        "#train(x_train, x_test, y_train,y_test)"
      ],
      "execution_count": 0,
      "outputs": []
    },
    {
      "cell_type": "code",
      "metadata": {
        "id": "u2C-qQe7618k",
        "colab_type": "code",
        "outputId": "be3bf6eb-48c5-4e2f-b4ef-dc4385e47986",
        "colab": {
          "base_uri": "https://localhost:8080/",
          "height": 34
        }
      },
      "source": [
        "model = build_model()\n",
        "model.load_weights('/content/drive/My Drive/PiMA/model/model.h5')\n",
        "model.evaluate(x_test,y_test,verbose=1)\n",
        "# prediction = model.predict(x_test)\n",
        "# print(prediction)"
      ],
      "execution_count": 0,
      "outputs": [
        {
          "output_type": "stream",
          "text": [
            " 7136/15000 [=============>................] - ETA: 1:31"
          ],
          "name": "stdout"
        }
      ]
    },
    {
      "cell_type": "markdown",
      "metadata": {
        "id": "DwQD4Wjd7jsJ",
        "colab_type": "text"
      },
      "source": [
        ""
      ]
    }
  ]
}